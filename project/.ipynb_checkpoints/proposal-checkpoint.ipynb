{
 "cells": [
  {
   "cell_type": "markdown",
   "metadata": {},
   "source": [
    "## Facial Recognition with Raspberry Pi\n",
    "\n",
    " My project is working with the Raspberry Pi to implement a facial recognition\n",
    "feature. I am using a usb camera connected to a Raspberry Pi 3 to take pictures, then\n",
    "using a neural net to recognize and detect people in the picture. The neural net will be\n",
    "trained to recognize 3 different people and label all people in a given picture as one of\n",
    "those three or unknown.\n",
    " The idea behind the project is to have the camera pointed at the entrance of my\n",
    "apartment and have it take a picture every second. If there are no people in the picture,\n",
    "that picture will be deleted. If there are people in the picture, lights will turn on according\n",
    "to who is in the picture (i.e. a separate light will turn on for each person recognized, and\n",
    "a light will turn on if an unknown person is in the picture). "
   ]
  }
 ],
 "metadata": {
  "kernelspec": {
   "display_name": "Python 3",
   "language": "python",
   "name": "python3"
  },
  "language_info": {
   "codemirror_mode": {
    "name": "ipython",
    "version": 3
   },
   "file_extension": ".py",
   "mimetype": "text/x-python",
   "name": "python",
   "nbconvert_exporter": "python",
   "pygments_lexer": "ipython3",
   "version": "3.8.2"
  }
 },
 "nbformat": 4,
 "nbformat_minor": 4
}
