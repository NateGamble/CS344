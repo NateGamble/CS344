{
 "cells": [
  {
   "cell_type": "markdown",
   "metadata": {},
   "source": [
    "## 1.\n",
    "I believe that \"deep\" neural nets are a breakthrough in the field of AI. Of course, it's hard to say if deep neural nets will be used many years in the future but many online platforms have adopted the use of these deep neural nets. Deep neural nets have proven their usefulness in so many areas, it's hard to think that they would turn out to be a bust like perceptrons. That's not to say I don't think they will be replaced. I expect that within a few decades we will have created something better (perhaps with quantum computing?) that will surpass the limits of deep neural nets. I don't think that will happen for a while though.\n",
    "\n",
    "## 2. \n"
   ]
  }
 ],
 "metadata": {
  "kernelspec": {
   "display_name": "Python 3",
   "language": "python",
   "name": "python3"
  },
  "language_info": {
   "codemirror_mode": {
    "name": "ipython",
    "version": 3
   },
   "file_extension": ".py",
   "mimetype": "text/x-python",
   "name": "python",
   "nbconvert_exporter": "python",
   "pygments_lexer": "ipython3",
   "version": "3.6.9"
  }
 },
 "nbformat": 4,
 "nbformat_minor": 2
}
