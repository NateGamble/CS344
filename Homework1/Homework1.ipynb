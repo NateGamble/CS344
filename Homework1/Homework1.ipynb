{
 "cells": [
  {
   "cell_type": "markdown",
   "metadata": {},
   "source": [
    "# 1. \n",
    "\n",
    "I don't think that this is a good way to gain insight into human cognitive processes for the purpose of modelling those processes. Introspection may be helpful to figure out patterns in how an individual thinks, but it doesn't give concrete data as to the mechanisms of human thought and brain patterns. Introspection is more helpful as a tool to realize what type of things you are thinking about than a tool to figure out how thinking works.\n",
    "\n",
    "# 2. \n",
    "States: A path that goes to every city, while starting and ending in each city\n",
    "Actions: Changing the order of cities so make the path shorter\n"
   ]
  },
  {
   "cell_type": "code",
   "execution_count": 7,
   "metadata": {},
   "outputs": [
    {
     "name": "stdout",
     "output_type": "stream",
     "text": [
      "[[0, 12, 9, 51, 36], [12, 0, 70, 98, 98], [9, 70, 0, 10, 79], [51, 98, 10, 0, 25], [36, 98, 79, 25, 0]]\n"
     ]
    }
   ],
   "source": [
    "import random\n",
    "random.random() * 100\n",
    "\n",
    "NUM_CITIES = 5\n",
    "\n",
    "cityMap = []\n",
    "#initialize cityMap as an empty 2d array\n",
    "for i in range(NUM_CITIES):\n",
    "    cityMap.append([])\n",
    "    for j in range(NUM_CITIES):\n",
    "        cityMap[i].append(0)\n",
    "for i in range(NUM_CITIES):\n",
    "    for j in range(NUM_CITIES):\n",
    "        #If there has already been a value assigned as the distance between cities i and j, skip it\n",
    "        if cityMap[i][j] != 0:\n",
    "            continue\n",
    "        if i == j:\n",
    "            cityMap[i][j] = 0\n",
    "        else:\n",
    "            #Generates a random number between 1 and 100 and gives that as the distance between cities i and j\n",
    "            cityMap[i][j] = cityMap[j][i] = random.randint(0,100)\n",
    "\n",
    "print(cityMap)"
   ]
  },
  {
   "cell_type": "code",
   "execution_count": null,
   "metadata": {},
   "outputs": [],
   "source": []
  }
 ],
 "metadata": {
  "kernelspec": {
   "display_name": "Python 3",
   "language": "python",
   "name": "python3"
  },
  "language_info": {
   "codemirror_mode": {
    "name": "ipython",
    "version": 3
   },
   "file_extension": ".py",
   "mimetype": "text/x-python",
   "name": "python",
   "nbconvert_exporter": "python",
   "pygments_lexer": "ipython3",
   "version": "3.8.2"
  }
 },
 "nbformat": 4,
 "nbformat_minor": 4
}
