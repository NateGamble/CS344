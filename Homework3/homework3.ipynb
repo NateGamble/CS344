{
 "cells": [
  {
   "cell_type": "markdown",
   "metadata": {},
   "source": [
    "## 1.\n",
    "\n",
    "Gain(price?) = Entropy(willWait) - Remainder(price?)\n",
    "Gain(price?) = 1 - Remainder(price?)\n",
    "Gain(price?) = 1 - (7/12 * Entropy(3/7, 4/7) + 2/12 * Entropy(2/2, 0/2) + 3/12 * Entropy(1/3, 2/3))\n",
    "Gain(price?) = 1 - (7/12 * -(3/7 * log2(3/7) + 4/7 * log2(4/7)) + 2/12 * -(1 * log2(1) + 0 * log2(0)) + 3/12 * -(1/3 * log2(1/3) + 2/3 * log2(2/3)))\n",
    "Gain(price?) = 1 - (7/12 * 0.985228136 + 4/7 * 0 + 2/12 * 0.918295834)\n",
    "Gain(price?) = 0.272234282 bits\n",
    "\n",
    "Asking the price question is more valuable than the type question (0 bits), but less valuable than the patrons question (0.54 bits).\n",
    "\n",
    "\n",
    "## 2.\n",
    "\n",
    "It is not possible to create a neural network that computes XOR through a linear model. AND and OR are possible because they are linearly seperable - you can have a threshold value that the correct answer needs to be above. XOR is not linearly seperable. XOR returns true for [1,0] and [0,1], but false for [0,0] and [1,1]. To be able to implement XOR in a neural network, we need a non-sequential layer. This second layer acts as an AND gate after the first layer (OR gate). The second layer makes sure that the input [1,1] returns false, while [1,0] and [0,1] return true."
   ]
  },
  {
   "cell_type": "code",
   "execution_count": 2,
   "metadata": {},
   "outputs": [
    {
     "ename": "ModuleNotFoundError",
     "evalue": "No module named 'tensorflow'",
     "output_type": "error",
     "traceback": [
      "\u001b[0;31m---------------------------------------------------------------------------\u001b[0m",
      "\u001b[0;31mModuleNotFoundError\u001b[0m                       Traceback (most recent call last)",
      "\u001b[0;32m<ipython-input-2-ada3e09665f5>\u001b[0m in \u001b[0;36m<module>\u001b[0;34m\u001b[0m\n\u001b[0;32m----> 1\u001b[0;31m \u001b[0;32mimport\u001b[0m \u001b[0mtensorflow\u001b[0m\u001b[0;34m\u001b[0m\u001b[0;34m\u001b[0m\u001b[0m\n\u001b[0m\u001b[1;32m      2\u001b[0m \u001b[0;32mfrom\u001b[0m \u001b[0mkeras\u001b[0m\u001b[0;34m.\u001b[0m\u001b[0mdatasets\u001b[0m \u001b[0;32mimport\u001b[0m \u001b[0mboston_housing\u001b[0m\u001b[0;34m\u001b[0m\u001b[0;34m\u001b[0m\u001b[0m\n\u001b[1;32m      3\u001b[0m \u001b[0;32mimport\u001b[0m \u001b[0mnumpy\u001b[0m \u001b[0;32mas\u001b[0m \u001b[0mnp\u001b[0m\u001b[0;34m\u001b[0m\u001b[0;34m\u001b[0m\u001b[0m\n\u001b[1;32m      4\u001b[0m \u001b[0;32mimport\u001b[0m \u001b[0mpandas\u001b[0m \u001b[0;32mas\u001b[0m \u001b[0mpd\u001b[0m\u001b[0;34m\u001b[0m\u001b[0;34m\u001b[0m\u001b[0m\n\u001b[1;32m      5\u001b[0m \u001b[0;34m\u001b[0m\u001b[0m\n",
      "\u001b[0;31mModuleNotFoundError\u001b[0m: No module named 'tensorflow'"
     ]
    }
   ],
   "source": [
    "import tensorflow\n",
    "from keras.datasets import boston_housing\n",
    "import numpy as np\n",
    "import pandas as pd\n",
    "\n",
    "boston_df = pd.read_csv(\"https://raw.githubusercontent.com/selva86/datasets/master/BostonHousing.csv\")\n",
    "print(f'Dimensions\\\n",
    "        \\n\\trows  : {boston_df.shape[0]}\\\n",
    "        \\n\\tcolumn: {boston_df.shape[1]}')\n",
    "# Shuffle the data\n",
    "boston_df = boston_df.sample(frac=1)\n",
    "boston_df.head()"
   ]
  },
  {
   "cell_type": "code",
   "execution_count": null,
   "metadata": {},
   "outputs": [],
   "source": []
  }
 ],
 "metadata": {
  "kernelspec": {
   "display_name": "Python 3",
   "language": "python",
   "name": "python3"
  },
  "language_info": {
   "codemirror_mode": {
    "name": "ipython",
    "version": 3
   },
   "file_extension": ".py",
   "mimetype": "text/x-python",
   "name": "python",
   "nbconvert_exporter": "python",
   "pygments_lexer": "ipython3",
   "version": "3.7.4"
  }
 },
 "nbformat": 4,
 "nbformat_minor": 4
}
