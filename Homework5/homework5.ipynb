{
 "cells": [
  {
   "cell_type": "markdown",
   "metadata": {},
   "source": [
    "## 1.\n",
    "If unicorn mythical --> unicorn magical  \n",
    "If unicorn not mythical --> mortal mammal  \n",
    "If unicorn mythical or mammal --> horned  \n",
    "If unicorn horned --> magical  \n",
    "\n",
    "The unicorn is either mythical or not, and since if it's not mythical it's a mortal mammal, we can say that the unicorn is either mythical or a mortal mammal. Since the unicorn is horned if it is either mythical or a mammal, it is horned. Because the unicorn is horned, it is magical.  \n",
    "\n",
    "This problem would be pretty easy to program in Prolog. This problem deals with straight facts, not even needing first-order logic. Because that's the case, Prolog could easily implement this problem.  \n",
    "\n",
    "## 2.\n",
    "```prolog\n",
    "word(astante,  a,s,t,a,n,t,e).\n",
    "word(astoria,  a,s,t,o,r,i,a).\n",
    "word(baratto,  b,a,r,a,t,t,o).\n",
    "word(cobalto,  c,o,b,a,l,t,o).\n",
    "word(pistola,  p,i,s,t,o,l,a).\n",
    "word(statale,  s,t,a,t,a,l,e).\n",
    "\n",
    "crossword(V1, V2, V3, H1, H2, H3):-\n",
    "    word(V1, _, A1, _, B1, _, C1, _),\n",
    "    word(V2, _, A2, _, B2, _, C2, _),\n",
    "    word(V3, _, A3, _, B3, _, C3, _),\n",
    "    word(H1, _, A1, _, A2, _, A3, _),\n",
    "    word(H2, _, B1, _, B2, _, B3, _),\n",
    "    word(H3, _, C1, _, C2, _, C3, _),\n",
    "    V1 \\== H1,\n",
    "    V2 \\== H2,\n",
    "    V3 \\== H3.\n",
    "```"
   ]
  }
 ],
 "metadata": {
  "kernelspec": {
   "display_name": "Python 3",
   "language": "python",
   "name": "python3"
  },
  "language_info": {
   "codemirror_mode": {
    "name": "ipython",
    "version": 3
   },
   "file_extension": ".py",
   "mimetype": "text/x-python",
   "name": "python",
   "nbconvert_exporter": "python",
   "pygments_lexer": "ipython3",
   "version": "3.6.9"
  }
 },
 "nbformat": 4,
 "nbformat_minor": 2
}
