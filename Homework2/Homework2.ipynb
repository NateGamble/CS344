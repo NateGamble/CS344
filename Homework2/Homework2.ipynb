{
 "cells": [
  {
   "cell_type": "markdown",
   "metadata": {},
   "source": [
    "# 1."
   ]
  },
  {
   "cell_type": "code",
   "execution_count": 5,
   "metadata": {},
   "outputs": [
    {
     "name": "stdout",
     "output_type": "stream",
     "text": [
      "['do', 'i', 'like', 'green', 'eggs', 'and', 'ham']\n",
      "All clear...\n",
      "['i', 'do']\n",
      "All clear...\n",
      "['I', 'am', 'spam', 'spam', 'I', 'am']\n",
      "Spam detected!\n",
      "['I', 'do', 'not', 'like', 'that', 'spamiam']\n",
      "All clear...\n"
     ]
    }
   ],
   "source": [
    "spam_corpus = [[\"I\", \"am\", \"spam\", \"spam\", \"I\", \"am\"], [\"I\", \"do\", \"not\", \"like\", \"that\", \"spamiam\"]]\n",
    "ham_corpus = [[\"do\", \"i\", \"like\", \"green\", \"eggs\", \"and\", \"ham\"], [\"i\", \"do\"]]\n",
    "\n",
    "spamWords = {}\n",
    "hamWords = {}\n",
    "spamCount = 0\n",
    "hamCount = 0\n",
    "\n",
    "#Parse spam messages and words\n",
    "for i in spam_corpus:\n",
    "    spamCount += 1\n",
    "    for j in i:\n",
    "        if j.lower() not in spamWords:\n",
    "            spamWords[j.lower()] = 1\n",
    "        else:\n",
    "            spamWords[j.lower()] += 1\n",
    "            \n",
    "#Parse ham messages and words \n",
    "for i in ham_corpus:\n",
    "    hamCount += 1\n",
    "    for j in i:\n",
    "        if j.lower() not in hamWords:\n",
    "            hamWords[j.lower()] = 1\n",
    "        else:\n",
    "            hamWords[j.lower()] += 1\n",
    "\n",
    "def wordInnocence(word):\n",
    "    if word in hamWords:\n",
    "        g = 2 * hamWords[word]\n",
    "    else:\n",
    "        g = 0\n",
    "    if word in spamWords:\n",
    "        b = spamWords[word]\n",
    "    else:\n",
    "        b = 0\n",
    "    if (g + b) > 1:\n",
    "        probBad = min(1, b / spamCount)\n",
    "        probGood = min(1, g / hamCount)\n",
    "        innocence = probBad / (probBad + probGood)\n",
    "        if innocence < .01:\n",
    "            return .01\n",
    "        elif innocence > .99:\n",
    "            return .99\n",
    "        else:\n",
    "            return innocence\n",
    "    else:\n",
    "        # Return .4 if we haven't seen the word before\n",
    "        return .4\n",
    "        \n",
    "messages = [[\"do\", \"i\", \"like\", \"green\", \"eggs\", \"and\", \"ham\"], [\"i\", \"do\"], [\"I\", \"am\", \"spam\", \"spam\", \"I\", \"am\"], [\"I\", \"do\", \"not\", \"like\", \"that\", \"spamiam\"]]\n",
    "for message in messages:\n",
    "    wordProbabilities = []\n",
    "    print(message)\n",
    "    # Get list of words in message and their innocence factor\n",
    "    for word in message:\n",
    "        innocence = (word.lower(), wordInnocence(word.lower()))\n",
    "        if innocence not in wordProbabilities:\n",
    "            wordProbabilities.append(innocence)\n",
    "    # Combined probability of innocence of words in message\n",
    "    a = 1\n",
    "    b = 1\n",
    "    for innocenceFactor in wordProbabilities:\n",
    "        a *= innocenceFactor[1]\n",
    "        b *= 1 - innocenceFactor[1]\n",
    "    messageInnocence = a / (a + b)\n",
    "    if messageInnocence >= .9:\n",
    "        print(\"Spam detected!\")\n",
    "    else:\n",
    "        print(\"All clear...\")\n",
    "        "
   ]
  },
  {
   "cell_type": "markdown",
   "metadata": {},
   "source": [
    "# 2.\n",
    "## a.\n"
   ]
  },
  {
   "cell_type": "code",
   "execution_count": 6,
   "metadata": {},
   "outputs": [],
   "source": [
    "import sys\n",
    "sys.path.append('/home/neg6/cs344/cs344-code/tools/aima')\n",
    "sys.path.append('D:\\\\School\\\\2019-20 Spring\\\\CS 344 AI\\\\cs344-code\\\\tools\\\\aima')\n",
    "from probability import BayesNet, enumeration_ask\n",
    "\n",
    "\n",
    "# Utility variables\n",
    "T, F = True, False\n",
    "\n",
    "# From AIMA code (probability.py) - Fig. 14.2 - burglary example\n",
    "wet = BayesNet([\n",
    "    ('Cloudy', '', 0.5),\n",
    "    ('Sprinkler', 'Cloudy', {T: .1, F: .5}),\n",
    "    ('Rain', 'Cloudy', {T: .8, F:.2}),\n",
    "    ('WetGrass', 'Sprinkler Rain', {(T, T): .99, (T,F): .9, (F,T): .9, (F,F): 0})\n",
    "    ])\n"
   ]
  },
  {
   "cell_type": "markdown",
   "metadata": {},
   "source": [
    "## b.\n",
    "The number of independent values in the full joint would be 32, of which 14 would be unique. These would contain P(cloudy), P(cloudy and sprinkler), P(cloudy and rain), P(cloudy and wetGrass), P(cloudy and sprinkler and rain), etc.\n",
    "\n",
    "## c.\n",
    "The number of independent values in the Bayesian network is 9.\n",
    "\n",
    "## d.\n",
    "### i.\n",
    "**P**(Cloudy)\n",
    "\n",
    "<.5, .5>"
   ]
  },
  {
   "cell_type": "code",
   "execution_count": 7,
   "metadata": {},
   "outputs": [
    {
     "name": "stdout",
     "output_type": "stream",
     "text": [
      "False: 0.5, True: 0.5\n"
     ]
    }
   ],
   "source": [
    "print(enumeration_ask('Cloudy', dict(), wet).show_approx())"
   ]
  },
  {
   "cell_type": "markdown",
   "metadata": {},
   "source": [
    "### ii.\n",
    "**P**(Sprinkler | cloudy)\n",
    "\n",
    "P(sprinkler) = P(sprinkler | cloudy) * P(cloudy) + P(sprinkler | !cloudy) * P(!cloudy) = .3\n",
    "\n",
    "x * <P(sprinkler | cloudy) * P(sprinkler), P(!sprinkler | cloudy) * P(!sprinkler)>\n",
    "\n",
    "x * <.1 * (.1 * .5 + .5 * .5), .5 * (.9 * .5 + .5 * .5)>\n",
    "\n",
    "x * <.03, .35>\n",
    "\n",
    "<.03 / .38, .35 / .38>\n",
    "\n",
    "<.0789, .9211>\n"
   ]
  },
  {
   "cell_type": "code",
   "execution_count": 8,
   "metadata": {},
   "outputs": [
    {
     "name": "stdout",
     "output_type": "stream",
     "text": [
      "False: 0.9, True: 0.1\n"
     ]
    }
   ],
   "source": [
    "print(enumeration_ask('Sprinkler', dict(Cloudy=T), wet).show_approx())"
   ]
  },
  {
   "cell_type": "markdown",
   "metadata": {},
   "source": [
    "### iii.\n",
    "**P**(cloudy | sprinkler and !rain)\n",
    "\n",
    "P(cloudy | sprinkler) = P(sprinkler and cloudy) / P(sprinkler) = .1 * .5 / .3 = .16667\n",
    "\n",
    "P(rain) = P(rain | cloudy) * P(cloudy) + P(rain | !cloudy) * P(!cloudy) = .8 * .5 + .2 * .5 = .5\n",
    "\n",
    "P(cloudy | !rain) = P(cloudy and !rain) / P(!rain) = .2 * .5 / .5 = .2\n",
    "\n",
    "x * <P(cloudy | sprinkler) * P(cloudy | !rain) * P(cloudy), P(!cloudy | sprinkler) * P(!cloudy | !rain) * P(!cloudy)>\n",
    "\n",
    "x * <.16667 * .2 * .5, .83333 * .8 * .5>\n",
    "\n",
    "x * <.016667, .333333>\n",
    "\n",
    "<.016667 / .35, .333333 / .35>\n",
    "\n",
    "<.9524, .0476>"
   ]
  },
  {
   "cell_type": "code",
   "execution_count": 9,
   "metadata": {},
   "outputs": [
    {
     "name": "stdout",
     "output_type": "stream",
     "text": [
      "False: 0.952, True: 0.0476\n"
     ]
    }
   ],
   "source": [
    "print(enumeration_ask('Cloudy', dict(Sprinkler=T, Rain=F), wet).show_approx())"
   ]
  },
  {
   "cell_type": "markdown",
   "metadata": {},
   "source": [
    "### iv.\n",
    "**P**(wetGrass | cloudy, sprinkler, raining)\n",
    "\n",
    "x * <P(wetGrass | cloudy) * P(wetGrass | sprinkler) * P(wetGrass | raining) * P(wetGrass), P(!wetGrass | cloudy) * P(!wetGrass | sprinkler) * P(!wetGrass | raining) * P(!wetGrass)>\n",
    "\n",
    "see answer below"
   ]
  },
  {
   "cell_type": "code",
   "execution_count": 10,
   "metadata": {},
   "outputs": [
    {
     "name": "stdout",
     "output_type": "stream",
     "text": [
      "False: 0.028, True: 0.972\n"
     ]
    }
   ],
   "source": [
    "print(enumeration_ask('WetGrass', dict(Cloudy=T, Sprinkler=T, Raining=T), wet).show_approx())"
   ]
  },
  {
   "cell_type": "markdown",
   "metadata": {},
   "source": [
    "### v.\n",
    "**P**(cloudy | !wetGrass)\n",
    "\n",
    "x * <P(cloudy | !wetGrass) * P(cloudy), P(!cloudy | !wetGrass) * P(!cloudy)>\n",
    "\n",
    "see answer below"
   ]
  },
  {
   "cell_type": "code",
   "execution_count": 11,
   "metadata": {},
   "outputs": [
    {
     "name": "stdout",
     "output_type": "stream",
     "text": [
      "False: 0.639, True: 0.361\n"
     ]
    }
   ],
   "source": [
    "print(enumeration_ask('Cloudy', dict(WetGrass=F), wet).show_approx())"
   ]
  }
 ],
 "metadata": {
  "kernelspec": {
   "display_name": "Python 3",
   "language": "python",
   "name": "python3"
  },
  "language_info": {
   "codemirror_mode": {
    "name": "ipython",
    "version": 3
   },
   "file_extension": ".py",
   "mimetype": "text/x-python",
   "name": "python",
   "nbconvert_exporter": "python",
   "pygments_lexer": "ipython3",
   "version": "3.8.2"
  }
 },
 "nbformat": 4,
 "nbformat_minor": 4
}
